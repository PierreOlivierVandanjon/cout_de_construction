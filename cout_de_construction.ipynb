{
 "cells": [
  {
   "cell_type": "markdown",
   "metadata": {},
   "source": [
    "# Coût de construction"
   ]
  },
  {
   "cell_type": "markdown",
   "metadata": {},
   "source": [
    "Dans un premier temps, nous calculons les mètres cubes de terrassement engendrés par le profil du projet. Celui-ci est comparé avec le profil du terrain naturel. \n",
    "\n",
    "Le terrassement est décrit par les altitudes du projet et du terrain naturel, la largeur de la plateforme, ses surlargeurs droites et gauches, ses pentes droites et gauche. La largeur de la plateforme est différente pour un remblai et pour un déblai.\n",
    "\n",
    "Le calcul du volume de terrassement revient à calculer successivement le volume d'un prisme non droit.\n",
    "Celui-ci est caractérisé par un trapèze en début de section et un trapèze en fin de section. Il est supposé une variation linéaire selon l'axe de la route des sommets du quadrilatère. Ceci revient à dire que les sommets du trapèze de début et les sommets du trapèze de fin sont reliés par des droites. Ceci est illustré par la figure suivante qui correspond au profil du remblai actuel entre les points P323 (abscisse 6240) et P324 (abscisse 6260)\n",
    "\n",
    "http://ggbm.at/tvQBNFFD\n",
    "\n",
    "P1,P2,P3,P4 sont les sommets du trapèze de début. P1f,P2f,P3f,P4f sont les sommets du trapèze de fin. X est l'axe longitudinale. Y est l'axe transversal. Z, non représenté, est l'axe vertical.\n",
    "\n",
    "\n",
    "Le principe du calcul du volume passe par le calcul du volume élémentaire calculé à partir de l'aire du  trapèze, noté $T(x)$ situé à l'abscisse $x$ avec $x$ variant de $0$ à $L$. $L$ est la longueur du prisme dans le sens des points kilométriques. \n",
    "\n",
    "Nous appelons la longueur de la plateforme initiale (resp. finale) $p_i$ ($p_f$),  la base initiale (resp. finale) $b_i$ ($b_f$), la hauteur initiale (resp. finale) du remblai $h_i$ (resp. $h_f$). Les grandeurs initiales sont représentées sur la figure précédente.\n",
    "\n",
    "Avec ces notations, l'aire du trapèze est donnée par la valeur suivante : \n",
    "\n",
    "$$\tT(x) = \\frac{1}{2} \\left(\\left(p_f-p_i \\right)x/L+p_i + \\left(b_f-b_i\\right)x/L+b_i\\right) \\left( \\left(h_f-h_i \\right)x/L + h_i \\right) $$\n",
    "\n",
    "\n",
    "L'expression précédente est dévelopée en remplaçant les différences par des $\\Delta$\n",
    "$$T(x)= \\frac{1}{2} \\left( \\frac{x^2}{L^2} \\Delta h  \\left(\\Delta p+ \\Delta b \\right) +  \n",
    "\t\\frac{x}{L}\\left(h_i\\Delta p  + p_i\\Delta h + h_i\\Delta b  + b_i\\Delta h  \\right) +  \n",
    "\th_i\\left(p_i + b_i \\right)\n",
    "\t\\right)\n",
    "$$\n",
    "\n",
    "L'aire du prisme $P$ est l'intégrale de $T(x)$:\n",
    "$$ P = \\int_0^L T(x) dx$$\n",
    "En intégrant l'expression développé de $T(x)$, le résultat suivant est obtenu\n",
    "$$\n",
    "\tP= \\frac{1}{2}\\left( \n",
    "\t\\frac{L}{3}\\Delta h  \\left(\\Delta p+ \\Delta b \\right)  +\n",
    "       \\frac{L}{2}\\left(h_i\\Delta p  + p_i\\Delta h + h_i\\Delta b  + b_i\\Delta h  \\right) +  \n",
    "        L\\times h_i\\left(p_i + b_i \\right)\n",
    "\\right) \n",
    "$$\n",
    "\n",
    "\n",
    "\n"
   ]
  },
  {
   "cell_type": "code",
   "execution_count": 2,
   "metadata": {
    "collapsed": true
   },
   "outputs": [],
   "source": [
    "def calcul_volume(lp,lb,h,L):\n",
    "#lp : longueur de la plateforme de début et de fin, une fois intégrée les surlargeurs\n",
    "#lb : longueur de la base de début et de fin, calculée à partir des pentes \n",
    "#h : hauteur de début et de fin, calculés à partir de la différence du terrain naturel et du projet\n",
    "#L : longueur de la section considérée, (ici 20m car nous avons la géométrie du remblai tous les 20m)\n",
    "\n",
    "    lpd=lp[0]\n",
    "    lpf=lp[1]\n",
    "    dlp=lpf-lpd\n",
    "    \n",
    "    lbd=lb[0]\n",
    "    lbf=lb[1]\n",
    "    dlb=lbf-lbd\n",
    "    \n",
    "    hd=h[0]\n",
    "    hf=h[1]\n",
    "    dh=hf-hd\n",
    "    \n",
    "    volume = L/2*(dh*(dlp+dlb)/3+(hd*dlp + lpd*dh + hd*dlb + lbd*dh )/2+ hd*(lpd+lbd))\n",
    "    return volume"
   ]
  },
  {
   "cell_type": "code",
   "execution_count": null,
   "metadata": {
    "collapsed": true
   },
   "outputs": [],
   "source": []
  },
  {
   "cell_type": "code",
   "execution_count": null,
   "metadata": {
    "collapsed": true
   },
   "outputs": [],
   "source": []
  }
 ],
 "metadata": {
  "kernelspec": {
   "display_name": "Python 3",
   "language": "python",
   "name": "python3"
  },
  "language_info": {
   "codemirror_mode": {
    "name": "ipython",
    "version": 3
   },
   "file_extension": ".py",
   "mimetype": "text/x-python",
   "name": "python",
   "nbconvert_exporter": "python",
   "pygments_lexer": "ipython3",
   "version": "3.5.1"
  }
 },
 "nbformat": 4,
 "nbformat_minor": 0
}
